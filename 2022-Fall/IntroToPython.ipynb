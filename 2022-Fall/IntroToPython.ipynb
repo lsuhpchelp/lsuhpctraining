{
  "cells": [
    {
      "cell_type": "markdown",
      "metadata": {
        "id": "view-in-github",
        "colab_type": "text"
      },
      "source": [
        "<a href=\"https://colab.research.google.com/github/lsuhpchelp/lsuhpctraining/blob/main/2022-Fall/IntroToPython.ipynb\" target=\"_parent\"><img src=\"https://colab.research.google.com/assets/colab-badge.svg\" alt=\"Open In Colab\"/></a>"
      ]
    },
    {
      "cell_type": "markdown",
      "metadata": {
        "id": "u1YDPNtbdHDj"
      },
      "source": [
        "\n",
        "#  **Introduction to Python**\n",
        "\n",
        "### Jason Li\n",
        "#####10/19/2022\n",
        "\n",
        "***"
      ]
    },
    {
      "cell_type": "markdown",
      "source": [
        "# 3. Python 101\n",
        "\n",
        "> 1) Variables and operators <br>\n",
        "2) Data types <br>\n",
        "3) Control flow <br>\n",
        "4) File I/O <br>\n",
        "5) Python modules <br>\n",
        "\n"
      ],
      "metadata": {
        "id": "XJqZwEWB-n6O"
      }
    },
    {
      "cell_type": "markdown",
      "metadata": {
        "id": "VB--CYOSdHDm"
      },
      "source": [
        "## 1) Variables and operators"
      ]
    },
    {
      "cell_type": "markdown",
      "metadata": {
        "id": "krWd44XodHDp"
      },
      "source": [
        "### a) Variables "
      ]
    },
    {
      "cell_type": "markdown",
      "source": [
        "* Variable type is dynamically determined from the value it is assigned, no data type is declared\n",
        "* Assign meaningful variable names\n",
        "* Some [keywords](https://docs.python.org/3/reference/lexical_analysis.html#keywords) are reserved\n",
        " * `print`, `assert`,  `while`, `lambda`, `for`, `if`... \n",
        "* A variable is assigned a value using the `=` operator, example:   `x = 3` which is read as \"the variable x is assigned the value of 3\"\n"
      ],
      "metadata": {
        "id": "HKi2VUMeax9i"
      }
    },
    {
      "cell_type": "markdown",
      "source": [
        "### b) Operators "
      ],
      "metadata": {
        "id": "sNroCEBRa0a9"
      }
    },
    {
      "cell_type": "markdown",
      "metadata": {
        "id": "R7DyZUcJdHDp"
      },
      "source": [
        "#### <a></a>\n",
        "* Arithmetic operators \n",
        " * `+`, `-`, `*`, `/ `\n",
        " * `**` (power), `//` (integer division), `%` (modulus)\n",
        "* Bitwise operators\n",
        " * `&` (AND), `|` (OR), `^` (XOR), `~` (NOT)\n",
        " * `<<` (left shift), `>>` (right shift)\n",
        "* Assignment operators\n",
        " * `=`\n",
        " * w/ arithmetic: `+=`, `-=`, `*=`, `/=`, `**=`, `//=`, `%=`\n",
        " * w/ bitwise: `&=`, `^=`, `|=`, `~=`, `<<=`, `>>=`\n",
        "* Comparison operators \n",
        " * `>`, `<`, `>=`, `<=`, `==`, `!=`, `<>` \n",
        " * `is`, `is not`\n"
      ]
    },
    {
      "cell_type": "code",
      "source": [
        "#@markdown > (An example of `is` operator)\n",
        "a = [1,2,3]\n",
        "b = [1,2,3]\n",
        "print(a == b)\n",
        "print(a is b)"
      ],
      "metadata": {
        "id": "-GoLIjf6yb9z",
        "cellView": "form"
      },
      "execution_count": null,
      "outputs": []
    },
    {
      "cell_type": "markdown",
      "source": [
        "#### <a></a>\n",
        "* Boolean operators\n",
        " * `and`, `or`, `not`\n",
        "* For more information about operators, see https://docs.python.org/3/library/operator.html"
      ],
      "metadata": {
        "id": "YdP6U5V7zbZd"
      }
    },
    {
      "cell_type": "markdown",
      "source": [
        "## <br>"
      ],
      "metadata": {
        "id": "YA20tOVqcana"
      }
    },
    {
      "cell_type": "markdown",
      "metadata": {
        "id": "DqzfTKX_dHDq"
      },
      "source": [
        "## 2) Data types   \n",
        "\n"
      ]
    },
    {
      "cell_type": "markdown",
      "source": [
        "* Numbers\n",
        "* Strings\n",
        "* Collection of data\n",
        "  * Lists\n",
        "  * Tuples\n",
        "  * Sets\n",
        "  * Dictionaries"
      ],
      "metadata": {
        "id": "xWf0EnjBbBV1"
      }
    },
    {
      "cell_type": "markdown",
      "metadata": {
        "id": "KWM_ojx6dHDq"
      },
      "source": [
        "### a) Numbers"
      ]
    },
    {
      "cell_type": "markdown",
      "source": [
        "#### i) Basics"
      ],
      "metadata": {
        "id": "BDY4qMWLZq2E"
      }
    },
    {
      "cell_type": "code",
      "execution_count": null,
      "metadata": {
        "id": "_yOMyLthdHDr"
      },
      "outputs": [],
      "source": [
        "# Number types\n",
        "\n",
        "x = 3\n",
        "print(type(x))\n",
        "\n",
        "y = 3.0\n",
        "print(type(y))\n",
        "\n",
        "z = 3+0j\n",
        "print(type(z))"
      ]
    },
    {
      "cell_type": "code",
      "execution_count": null,
      "metadata": {
        "id": "EnO7Vu1QdHD0",
        "scrolled": true
      },
      "outputs": [],
      "source": [
        "# Converters\n",
        "\n",
        "print(int(3.3))\n",
        "\n",
        "print(float(3))\n",
        "\n",
        "print(complex(5,6))"
      ]
    },
    {
      "cell_type": "markdown",
      "source": [
        "#### ii) Binary and hexadecimal"
      ],
      "metadata": {
        "id": "cdgOL44pmLQj"
      }
    },
    {
      "cell_type": "code",
      "source": [
        "a=0b101   # Numbers starting with \"0b\" are binary\n",
        "print(a)\n",
        "\n",
        "#b=5\n",
        "#print(a==b)\n",
        "#print(a is b)"
      ],
      "metadata": {
        "id": "tPYmnW9VmvtO"
      },
      "execution_count": null,
      "outputs": []
    },
    {
      "cell_type": "code",
      "source": [
        "b=0x1A    # Numbers starting with \"0x\" are hexadecimal\n",
        "print(b)"
      ],
      "metadata": {
        "id": "1SWDfnvum8Gg"
      },
      "execution_count": null,
      "outputs": []
    },
    {
      "cell_type": "code",
      "source": [
        "c=bin(1024)  # hex(1024)\n",
        "print(c)\n",
        "print(type(c))"
      ],
      "metadata": {
        "id": "8kSMDnI5nKlf"
      },
      "execution_count": null,
      "outputs": []
    },
    {
      "cell_type": "code",
      "source": [
        "d=0b1101^0b0110\n",
        "print(bin(d))"
      ],
      "metadata": {
        "id": "y2Rv5qZB11LK"
      },
      "execution_count": null,
      "outputs": []
    },
    {
      "cell_type": "markdown",
      "metadata": {
        "id": "_XDWU4R-dHED"
      },
      "source": [
        "<a id='string'></a>\n",
        "### b) Strings"
      ]
    },
    {
      "cell_type": "code",
      "execution_count": null,
      "metadata": {
        "id": "lRqQ2KwHdHEE"
      },
      "outputs": [],
      "source": [
        "my_str = \"Hello World\"\n",
        "print(my_str)\n",
        "type(my_str)"
      ]
    },
    {
      "cell_type": "code",
      "execution_count": null,
      "metadata": {
        "id": "TW0WIQredHEX"
      },
      "outputs": [],
      "source": [
        "# Multiple line spanning\n",
        "\n",
        "multilines= \"\"\"This is a multi-line\n",
        "block of sample\n",
        " text\"\"\"\n",
        "print(multilines)\n",
        "\n",
        "# This is a trick to block comment"
      ]
    },
    {
      "cell_type": "code",
      "source": [
        "# Converters\n",
        "\n",
        "a = 123    # str(123)\n",
        "print(type(a))\n",
        "\n",
        "#b = \"1024\"  # int(1024)\n",
        "#print(type(b))\n",
        "\n",
        "# What if I give a wrong input?\n",
        "#c = int(\"123int\")"
      ],
      "metadata": {
        "id": "8IQ9SjSza8RS"
      },
      "execution_count": null,
      "outputs": []
    },
    {
      "cell_type": "code",
      "execution_count": null,
      "metadata": {
        "id": "4R7QI39sdHEG",
        "scrolled": false
      },
      "outputs": [],
      "source": [
        "# String length\n",
        "\n",
        "my_str = \"Hello World\"\n",
        "len(my_str)"
      ]
    },
    {
      "cell_type": "code",
      "source": [
        "# Basic string operations\n",
        "\n",
        "str1 = \"Hello \"\n",
        "str2 = \"World\"\n",
        "print(str1 + str2)\n",
        "print(str1 * 5)"
      ],
      "metadata": {
        "id": "KnN1Q-flIH9n"
      },
      "execution_count": null,
      "outputs": []
    },
    {
      "cell_type": "code",
      "execution_count": null,
      "metadata": {
        "id": "4zQd6w2odHEN",
        "scrolled": true
      },
      "outputs": [],
      "source": [
        "# String indexing (Index starts at 0)\n",
        "\n",
        "my_str = \"Hello World\"\n",
        "print(my_str[0])\n",
        "#print(my_str[10])\n",
        "#print(my_str[-1])"
      ]
    },
    {
      "cell_type": "code",
      "execution_count": null,
      "metadata": {
        "id": "sM7y1xrzdHEQ",
        "scrolled": true
      },
      "outputs": [],
      "source": [
        "# String slicing\n",
        "\n",
        "my_str = \"Hello World\"\n",
        "print(my_str[1:5])\n",
        "#print(my_str[1:])\n",
        "#print(my_str[:5])\n",
        "#print(my_str[1:5:2])\n",
        "#print(my_str[-5:-1])\n",
        "#print(my_str[:])"
      ]
    },
    {
      "cell_type": "code",
      "execution_count": null,
      "metadata": {
        "id": "jZ3WiHyQdHET",
        "scrolled": true
      },
      "outputs": [],
      "source": [
        "# String split\n",
        "\n",
        "my_str = \"Hello World\"\n",
        "s1, s2 = my_str.split()\n",
        "print(s1)\n",
        "print(s2)"
      ]
    },
    {
      "cell_type": "code",
      "execution_count": null,
      "metadata": {
        "id": "-2c8QnMTdHEb"
      },
      "outputs": [],
      "source": [
        "# String formatting\n",
        "\n",
        "name=\"pi\"\n",
        "number=3.14159265359\n",
        "\n",
        "# Method 1: Formatted String Literals\n",
        "text1 = f\"The value of {name} is {number}\"\n",
        "#text1 = f\"The value of {name:s} is {number:f}\"\n",
        "print(text)\n",
        "\n",
        "# Method 2: str.format() method\n",
        "#text = \"The value of {:s} is {:.5f}\".format(name, number)\n",
        "#print(text)\n",
        "\n",
        "# Method 3: % operator (printf style)\n",
        "#text = \"The value of %s is %.5f\" % (name, number)\n",
        "#print(text)\n",
        "\n",
        "# For more information, see https://docs.python.org/3/tutorial/inputoutput.html#fancier-output-formatting "
      ]
    },
    {
      "cell_type": "markdown",
      "source": [
        "For more information about string methods, see https://docs.python.org/3/library/stdtypes.html#string-methods"
      ],
      "metadata": {
        "id": "yHnCngPAbeD0"
      }
    },
    {
      "cell_type": "markdown",
      "source": [
        "### c) Collection of data"
      ],
      "metadata": {
        "id": "n1GjV7cVZfsl"
      }
    },
    {
      "cell_type": "markdown",
      "metadata": {
        "id": "_GSJRSDDdHEj"
      },
      "source": [
        "#### i) Lists"
      ]
    },
    {
      "cell_type": "markdown",
      "source": [
        "* Collection of data (compare to \"array\" in some languages)\n",
        "* Syntax: `[ ]`\n",
        "* Ordered\n",
        "* Mutable: can be modified in place\n",
        "* Can be **inhomogeneous** (contains a mix of different data types)\n",
        "  * In other languages, equivalent data structures are often homogeneous (C++, FORTRAN)\n",
        "  * Though often used as homogeneous"
      ],
      "metadata": {
        "id": "fgjJ7uI_du0Y"
      }
    },
    {
      "cell_type": "code",
      "execution_count": null,
      "metadata": {
        "id": "kjuBDd2CdHEj"
      },
      "outputs": [],
      "source": [
        "# Create a list\n",
        "\n",
        "list1 = [1,2,9,4,12,50]  # Homogeneous\n",
        "print(list1)\n",
        "\n",
        "list2 = [1, 2, \"Hello\", \"World\", True]  # Inhomogeneous\n",
        "print(list2)"
      ]
    },
    {
      "cell_type": "code",
      "source": [
        "# Converters\n",
        "\n",
        "list1 = list(\"Hello World\")\n",
        "print(list1)\n",
        "\n",
        "# A lot of things can be converted by list(), but let's not get ahead of ourselves"
      ],
      "metadata": {
        "id": "oqx-hvZnaKTZ"
      },
      "execution_count": null,
      "outputs": []
    },
    {
      "cell_type": "code",
      "source": [
        "# Accessing list members (indexing)\n",
        "\n",
        "list1 = [1,2,9,4,12,50]\n",
        "print(list1)\n",
        "#print(list1[0])\n",
        "#print(list1[3])\n",
        "#print(list1[-1])"
      ],
      "metadata": {
        "id": "CS5coRzQKxVg"
      },
      "execution_count": null,
      "outputs": []
    },
    {
      "cell_type": "code",
      "execution_count": null,
      "metadata": {
        "id": "iEmUEwyYdHEr"
      },
      "outputs": [],
      "source": [
        "# Basic list operations\n",
        "\n",
        "list1 = [1,2,9,4,12,50]\n",
        "print(list1)\n",
        "#print(list1 + list1)\n",
        "#print(list1 * 3)"
      ]
    },
    {
      "cell_type": "code",
      "source": [
        "# List slicing\n",
        "\n",
        "list1 = [1,2,9,4,12,50]\n",
        "print(list1[1:5])\n",
        "#print(list1[1:])\n",
        "#print(list1[:5])\n",
        "#print(list1[1:5:2])\n",
        "#print(list1[-5:-1])\n",
        "#print(list1[:])"
      ],
      "metadata": {
        "id": "qFecjkG2LKwe"
      },
      "execution_count": null,
      "outputs": []
    },
    {
      "cell_type": "code",
      "source": [
        "# Mutable (modify a list)\n",
        "\n",
        "list1 = [1,2,9,4,12,50]\n",
        "print(list1)\n",
        "\n",
        "#list1[0] = 10\n",
        "#list1[3] += 10\n",
        "#print(list1)"
      ],
      "metadata": {
        "id": "Jr2OQCSgKcm_"
      },
      "execution_count": null,
      "outputs": []
    },
    {
      "cell_type": "code",
      "source": [
        "# Manipulate a list\n",
        "\n",
        "list2 = [\"Hello\", \"my\", \"World\"]\n",
        "print(list2)\n",
        "\n",
        "#del list2[1]\n",
        "#print(list2)\n",
        "\n",
        "#list2.insert(1, \"Python\")\n",
        "#print(list2)"
      ],
      "metadata": {
        "id": "W-MHpN5dM61Z"
      },
      "execution_count": null,
      "outputs": []
    },
    {
      "cell_type": "code",
      "source": [
        "# Using list as a stack\n",
        "\n",
        "list2 = [\"Hello\", \"my\", \"World\"]\n",
        "print(list2)\n",
        "\n",
        "#ele = list2.pop()\n",
        "#print(ele)\n",
        "#print(list2)\n",
        "\n",
        "#list2.append(\"Python\")\n",
        "#print(list2)"
      ],
      "metadata": {
        "id": "KdWwPtr9O57R"
      },
      "execution_count": null,
      "outputs": []
    },
    {
      "cell_type": "code",
      "execution_count": null,
      "metadata": {
        "id": "Sbs8IVSfdHEy",
        "scrolled": true
      },
      "outputs": [],
      "source": [
        "# Sorting\n",
        "\n",
        "list1 = [1,2,9,4,12,3]\n",
        "print(list1)\n",
        "\n",
        "# Method 1: returns sorted result\n",
        "#list1_sorted = sorted(list1)\n",
        "#print(list1_sorted)\n",
        "#print(list1)\n",
        "\n",
        "# Method 2: sort in-place\n",
        "#list1.sort()\n",
        "#print(list1)"
      ]
    },
    {
      "cell_type": "code",
      "source": [
        "# A common mistake: To copy or not to copy?\n",
        "\n",
        "list1 = [1,2,3,4]\n",
        "list2 = list1\n",
        "print(list2)\n",
        "\n",
        "#list2[0] = 10\n",
        "#print(list2)\n",
        "\n",
        "#print(list1)      # What is the result?"
      ],
      "metadata": {
        "id": "3oE703ieRIJZ"
      },
      "execution_count": null,
      "outputs": []
    },
    {
      "cell_type": "markdown",
      "source": [
        "For more information about list methods, see https://docs.python.org/3/tutorial/datastructures.html#more-on-lists"
      ],
      "metadata": {
        "id": "KWNsliE9Zibd"
      }
    },
    {
      "cell_type": "markdown",
      "metadata": {
        "id": "SHQYeFQadHE_"
      },
      "source": [
        "#### ii) Tuples"
      ]
    },
    {
      "cell_type": "markdown",
      "source": [
        "* Collection of data\n",
        "* Syntax: `( )`\n",
        "* Ordered\n",
        "* **Immutable**: can **NOT** be modified\n",
        "* Can be **inhomogeneous**\n",
        "* Why Tuple?\n",
        "  * Processed faster than lists\n",
        "* Typical scenarios:\n",
        "  * Unpacking\n",
        "  * Inhomogeneous data\n",
        "  * Something you don't want to change (unlike list)"
      ],
      "metadata": {
        "id": "ysLgf4Msdy89"
      }
    },
    {
      "cell_type": "code",
      "execution_count": null,
      "metadata": {
        "id": "331x350XgbOG"
      },
      "outputs": [],
      "source": [
        "# Create a tuple\n",
        "\n",
        "tuple1 = (1, 2, 'three')\n",
        "print(tuple1)\n",
        "\n",
        "# \"()\" can be emitted\n",
        "#tuple2 = 1, 2, 'three'\n",
        "#print(tuple2)\n",
        "\n",
        "# Empty tuples\n",
        "#tuple3 = ()\n",
        "#print(tuple3)\n",
        "\n",
        "# Tuple with one element: must include comma\n",
        "#tuple4 = (50)    # (50,)    50,   \n",
        "#print(tuple4)"
      ]
    },
    {
      "cell_type": "code",
      "source": [
        "# Converters\n",
        "\n",
        "tuple1 = (1, 2, 'three')\n",
        "list1 = list(tuple1)\n",
        "print(list1, type(list1))\n",
        "\n",
        "#list2 = [1,2,3,4,5]\n",
        "#tuple2 = tuple(list2)\n",
        "#print(tuple2, type(tuple2))"
      ],
      "metadata": {
        "id": "Rpekrhg-wf0q"
      },
      "execution_count": null,
      "outputs": []
    },
    {
      "cell_type": "code",
      "source": [
        "# Basic operations, indexing and slicing (same as list, sequence is protected)\n",
        "\n",
        "tuple1 = (1, \"two\", 3, \"four\", 5, \"six\")\n",
        "print(tuple1)\n",
        "\n",
        "# Basic operations\n",
        "#print(tuple1 * 3)\n",
        "#print(tuple1 + tuple1)\n",
        "\n",
        "# Indexing\n",
        "#print(tuple1[1])\n",
        "#print(tuple1[-2])\n",
        "\n",
        "# Slicing\n",
        "#print(tuple1[1:5])\n",
        "#print(tuple1[1:])\n",
        "#print(tuple1[:5])\n",
        "#print(tuple1[1:5:2])\n",
        "#print(tuple1[-5:-1])\n",
        "#print(tuple1[:])"
      ],
      "metadata": {
        "id": "s4Bji5gkg8fD"
      },
      "execution_count": null,
      "outputs": []
    },
    {
      "cell_type": "code",
      "source": [
        "# Immutable (cannot be changed)\n",
        "\n",
        "tuple1 = (1, 2, 'three')\n",
        "print(tuple1[1])\n",
        "\n",
        "#tuple1[1]=10\n",
        "\n",
        "#del tuple1[0]"
      ],
      "metadata": {
        "id": "JZG3V2O5gpD2"
      },
      "execution_count": null,
      "outputs": []
    },
    {
      "cell_type": "code",
      "execution_count": null,
      "metadata": {
        "id": "nlgKsOibdHE_"
      },
      "outputs": [],
      "source": [
        "# Typical usage 1: return multiple values with different types\n",
        "\n",
        "def myfunc(mystring):\n",
        "    # This function returns the length and last letter of a string\n",
        "    getlen = len(mystring)\n",
        "    getlast = mystring[-1]\n",
        "    return(getlen, getlast)         # Return a tuple\n",
        "\n",
        "retval = myfunc(\"Hello World\")\n",
        "print(retval)\n",
        "#print(type(retval))"
      ]
    },
    {
      "cell_type": "code",
      "source": [
        "# Typical usage 2: unpacking\n",
        "\n",
        "mylen, mylast = myfunc(\"Hello World\")\n",
        "\n",
        "print(mylen)\n",
        "print(mylast)\n",
        "\n",
        "# What if I do not care about the rest of the tuple?\n",
        "#myfirst, *idc = (1, \"two\", 3, \"four\", 5, \"six\")\n",
        "#print(myfirst)\n",
        "#print(idc)"
      ],
      "metadata": {
        "id": "58y9NYl_mPPF"
      },
      "execution_count": null,
      "outputs": []
    },
    {
      "cell_type": "code",
      "source": [
        "# Brain teaser: Same or not?\n",
        "\n",
        "tuple1 = (1, \"two\", [3, 4]) \n",
        "tuple2 = (1, \"two\", [3, 4])\n",
        "\n",
        "print(tuple1 == tuple2)\n",
        "print(tuple1 is tuple2)"
      ],
      "metadata": {
        "id": "xz3GLNaco4HW"
      },
      "execution_count": null,
      "outputs": []
    },
    {
      "cell_type": "markdown",
      "source": [
        "For more information about list methods, see https://docs.python.org/3/tutorial/datastructures.html#tuples-and-sequences"
      ],
      "metadata": {
        "id": "AyMaHpv9rOFe"
      }
    },
    {
      "cell_type": "markdown",
      "source": [
        "#### iii) Sets"
      ],
      "metadata": {
        "id": "MxZ47FAiryUf"
      }
    },
    {
      "cell_type": "markdown",
      "source": [
        "* Collection of data\n",
        "* Syntax: `{ }`\n",
        "* **Unordered**, not indexed\n",
        "* **No duplicate**\n",
        "* Can be **inhomogeneous**"
      ],
      "metadata": {
        "id": "rE9011pkr2p5"
      }
    },
    {
      "cell_type": "code",
      "source": [
        "# Create a set\n",
        "\n",
        "fruit = {\"apple\", \"banana\", \"orange\", 'pear', 'tomato'}\n",
        "#fruit = {\"apple\", 'tomato', \"banana\", \"orange\", \"apple\", 'pear', \"banana\"}\n",
        "print(fruit)"
      ],
      "metadata": {
        "id": "d2OWpHxnvel3"
      },
      "execution_count": null,
      "outputs": []
    },
    {
      "cell_type": "code",
      "source": [
        "# Converters\n",
        "\n",
        "list1 = [1,2,3,4,5,1]\n",
        "set1 = set(list1)\n",
        "print(set1, type(set1))\n",
        "\n",
        "#set2 = {\"apple\", \"banana\", \"orange\", 'pear', 'tomato'}\n",
        "#tuple2 = tuple(set2)\n",
        "#print(tuple2, type(tuple2))\n",
        "\n",
        "#set3 = set(\"Hello World\")\n",
        "#print(set3)"
      ],
      "metadata": {
        "id": "Rn96Nmt2YZ-m"
      },
      "execution_count": null,
      "outputs": []
    },
    {
      "cell_type": "code",
      "source": [
        "# Indexing does NOT work\n",
        "\n",
        "fruit = {\"apple\", \"banana\", \"orange\", 'pear', 'tomato'}\n",
        "print(fruit[1])"
      ],
      "metadata": {
        "id": "ySLiFYZsRZAI"
      },
      "execution_count": null,
      "outputs": []
    },
    {
      "cell_type": "code",
      "source": [
        "# Basic usage: in\n",
        "\n",
        "fruit = {\"apple\", \"banana\", \"orange\", 'pear', 'tomato'}\n",
        "print(\"apple\" in fruit)\n",
        "print(\"potato\" not in fruit)"
      ],
      "metadata": {
        "id": "cncGihluReFz"
      },
      "execution_count": null,
      "outputs": []
    },
    {
      "cell_type": "code",
      "source": [
        "# Set operations\n",
        "\n",
        "fruit = {\"apple\", \"banana\", \"orange\", 'pear', 'tomato'}\n",
        "vegetables = {\"cabbage\", \"tomato\", \"lettuce\", \"potato\"}\n",
        "\n",
        "print(fruit & vegetables)    # Logic AND (intersection)\n",
        "#print(fruit | vegetables)    # Logic OR (union)\n",
        "#print(fruit ^ vegetables)    # Logic XOR (symmetric difference: elements in either set but not both)\n",
        "#print(fruit - vegetables)    # Minus (set difference: elements in first set but not in second) "
      ],
      "metadata": {
        "id": "2VXmklndSZGr"
      },
      "execution_count": null,
      "outputs": []
    },
    {
      "cell_type": "code",
      "source": [
        "# Set methods\n",
        "\n",
        "fruit = {\"apple\", \"banana\", \"orange\", 'pear', 'tomato'}\n",
        "\n",
        "#fruit.add(\"peach\")\n",
        "#print(fruit)\n",
        "\n",
        "#fruit.remove(\"tomato\")\n",
        "#print(fruit)"
      ],
      "metadata": {
        "id": "7fcwPCYCVEyw"
      },
      "execution_count": null,
      "outputs": []
    },
    {
      "cell_type": "markdown",
      "source": [
        "For more information about set methods, see https://www.w3schools.com/python/python_ref_set.asp"
      ],
      "metadata": {
        "id": "PGq_L8VCVQKQ"
      }
    },
    {
      "cell_type": "markdown",
      "metadata": {
        "id": "7NHEdgtwdHFG"
      },
      "source": [
        "#### iv) Dictionaries"
      ]
    },
    {
      "cell_type": "markdown",
      "source": [
        "* Collection of data (list of key-value pairs, compare to \"hash table\" in some languages)\n",
        "* Syntax: `{ }`\n",
        "* **Unordered**, not indexed\n",
        "  * Store objects in an order for faster lookup (*hash)\n",
        "* **No duplicate**\n",
        "* Can be **inhomogeneous**\n",
        "* Element are accessed by a **keyword**, not index\n",
        "* Mutable "
      ],
      "metadata": {
        "id": "-lpTgXq4C6Xj"
      }
    },
    {
      "cell_type": "code",
      "execution_count": null,
      "metadata": {
        "id": "9gcG6o9NdHFG",
        "scrolled": true
      },
      "outputs": [],
      "source": [
        "# Create a dictionary\n",
        "\n",
        "dict1 = {'cats': 4, 'dogs' : 2, 'sheep' : 3}\n",
        "print(dict1)"
      ]
    },
    {
      "cell_type": "code",
      "source": [
        "# Converters \n",
        "\n",
        "dict1 = {'cats': 4, 'dogs' : 2, 'sheep' : 3}\n",
        "print(list(dict1))\n",
        "\n",
        "#keys = list(dict1.keys())\n",
        "#values = list(dict1.values())\n",
        "#print(keys, values)"
      ],
      "metadata": {
        "id": "5SCKx-ducT-m"
      },
      "execution_count": null,
      "outputs": []
    },
    {
      "cell_type": "code",
      "source": [
        "# Accessing a dictionary\n",
        "\n",
        "dict1 = {'cats': 4, 'dogs' : 2, 'sheep' : 3}\n",
        "print(dict1[\"cats\"])"
      ],
      "metadata": {
        "id": "ne7k7gCkeAuk"
      },
      "execution_count": null,
      "outputs": []
    },
    {
      "cell_type": "code",
      "source": [
        "# Change a dictionary\n",
        "\n",
        "dict1 = {'cats': 4, 'dogs' : 2, 'sheep' : 3}\n",
        "\n",
        "# Change value\n",
        "#dict1[\"cats\"] += 1\n",
        "#print(dict1)\n",
        "\n",
        "# Add a key (just pretend the key exists)\n",
        "#dict1[\"horse\"] = 1\n",
        "#print(dict1)\n",
        "\n",
        "# Remove a key-value pair\n",
        "#del dict1[\"sheep\"]\n",
        "#print(dict1)"
      ],
      "metadata": {
        "id": "3Y4NWzmZeaU3"
      },
      "execution_count": null,
      "outputs": []
    },
    {
      "cell_type": "code",
      "source": [
        "# What's in there, what's not?\n",
        "\n",
        "dict1 = {'cats': 4, 'dogs' : 2, 'sheep' : 3}\n",
        "print(\"cats\" in dict1)\n",
        "print(4 in dict1)\n",
        "\n",
        "#print(\"cats\" in dict1.keys())\n",
        "#print(4 in dict1.values())"
      ],
      "metadata": {
        "id": "IDPTUDA8e9TP"
      },
      "execution_count": null,
      "outputs": []
    },
    {
      "cell_type": "markdown",
      "source": [
        "For more information about dictionary methods, see https://www.w3schools.com/python/python_ref_dictionary.asp"
      ],
      "metadata": {
        "id": "uvIMpfmY2fBE"
      }
    },
    {
      "cell_type": "markdown",
      "source": [
        "## <br>"
      ],
      "metadata": {
        "id": "38Sjibs_c2Lq"
      }
    },
    {
      "cell_type": "markdown",
      "source": [
        "## 3) Control flow"
      ],
      "metadata": {
        "id": "lCdorVfb0ttj"
      }
    },
    {
      "cell_type": "markdown",
      "source": [
        "* Logic branch (if-else)\n",
        "* For loop\n",
        "* While loop\n",
        "* Loop control\n",
        "* Functions"
      ],
      "metadata": {
        "id": "Lw1uEV8tc7wn"
      }
    },
    {
      "cell_type": "markdown",
      "source": [
        "### a) Logic branch (if-else)"
      ],
      "metadata": {
        "id": "Yu90ojsY13Rz"
      }
    },
    {
      "cell_type": "code",
      "source": [
        "# Basic if-else\n",
        "\n",
        "x = 500\n",
        "if ( x > 0 ):\n",
        "    str1 = \"x is positive\"\n",
        "elif ( x < 0 ):\n",
        "    str1 = \"x is negative\"\n",
        "else:\n",
        "    str1 = \"x is 0\"\n",
        "print(str1)"
      ],
      "metadata": {
        "id": "pidlskQJ128P"
      },
      "execution_count": null,
      "outputs": []
    },
    {
      "cell_type": "code",
      "source": [
        "# In-line if\n",
        "\n",
        "x = 500\n",
        "str1 = \"x is positive\" if (x > 0) else \"x is negative or 0\"\n",
        "print(str1)\n",
        "\n",
        "# Equivalent to\n",
        "# if (x > 5):\n",
        "#     str1 = \"x is positive\"\n",
        "# else:\n",
        "#     str1 = \"x is negative or 0\""
      ],
      "metadata": {
        "id": "Tr5f4zM92a4w"
      },
      "execution_count": null,
      "outputs": []
    },
    {
      "cell_type": "code",
      "source": [
        "#@markdown * BONUS: an even simpler and more advanced form. \n",
        "#@markdown    * a.k.a. Writing an if statement without writing \"if\"\n",
        "\n",
        "x = 500\n",
        "str1 = x > 0 and \"x is positive\" or x < 0 and \"x is negative\" or x == 0 and \"x is 0\"\n",
        "print(str1)\n",
        "\n",
        "# This is how logic operators work: \n",
        "#    * In \"A and B\", \"B\" will only be evaluated if \"A\" is True\n",
        "#    * In \"A or B\", \"B\" will not be evaluated if \"A\" is True\n",
        "\n",
        "# Do not worry about it if you do not understand at the moment :)  \n",
        "# Just added here for fun"
      ],
      "metadata": {
        "cellView": "form",
        "id": "8poo3Qub4CWw"
      },
      "execution_count": null,
      "outputs": []
    },
    {
      "cell_type": "markdown",
      "source": [
        "### b) For loop"
      ],
      "metadata": {
        "id": "nABDVgJW3_g4"
      }
    },
    {
      "cell_type": "markdown",
      "source": [
        "#### i) Basic usage"
      ],
      "metadata": {
        "id": "r1Nm97H6FAog"
      }
    },
    {
      "cell_type": "code",
      "source": [
        "# Basic usage: loop through a list/tuple/set\n",
        "\n",
        "myloop = [1, \"2\", False, \"s\", 3]\n",
        "\n",
        "for i in myloop:\n",
        "    print(i)\n",
        "\n",
        "# There is an \"imposter\" among us!"
      ],
      "metadata": {
        "id": "YKxBJ8UP9xW8"
      },
      "execution_count": null,
      "outputs": []
    },
    {
      "cell_type": "code",
      "source": [
        "# A very common usage: numeric indexing\n",
        "\n",
        "for i in range(7):\n",
        "    print(i)"
      ],
      "metadata": {
        "id": "E99i1Ksl_GTr"
      },
      "execution_count": null,
      "outputs": []
    },
    {
      "cell_type": "code",
      "source": [
        "# Loop through a dictionary\n",
        "\n",
        "dict1 = {'cats': 4, 'dogs' : 2, 'sheep' : 3}\n",
        "\n",
        "# Method 1: Loop through keys\n",
        "for k in dict1.keys():           # Or emit \".keys()\"\n",
        "    print(k, dict1[k])\n",
        "\n",
        "# Method 2: Loop through key-value pairs\n",
        "#for k, v in dict1.items():\n",
        "#    print(k, v)"
      ],
      "metadata": {
        "id": "NVbJ9DBU_QqT"
      },
      "execution_count": null,
      "outputs": []
    },
    {
      "cell_type": "markdown",
      "source": [
        "#### ii) Fun feature for the \"lazy\": comprehension!"
      ],
      "metadata": {
        "id": "p_3AWBcCE_9g"
      }
    },
    {
      "cell_type": "code",
      "source": [
        "# List/tuple/set comprehension [expr for var in list]\n",
        "\n",
        "res = [i**2 for i in range(7)]     # Add: if i != 2\n",
        "print(res)\n",
        "\n",
        "# Equivalent of (but faster than):\n",
        "# res = []\n",
        "# for i in range(7):\n",
        "#     res.append(i**2)"
      ],
      "metadata": {
        "id": "ix2MifQnAZbz"
      },
      "execution_count": null,
      "outputs": []
    },
    {
      "cell_type": "code",
      "source": [
        "# Dictionary comprehension [key: value for var in list]\n",
        "res = {str(i): i**2 for i in range(5)}\n",
        "print(res)"
      ],
      "metadata": {
        "id": "YuoE20duFSU0"
      },
      "execution_count": null,
      "outputs": []
    },
    {
      "cell_type": "markdown",
      "source": [
        "### c) While loop"
      ],
      "metadata": {
        "id": "F_NlFpaHFaqL"
      }
    },
    {
      "cell_type": "code",
      "source": [
        "# While loop\n",
        "\n",
        "i = 0\n",
        "while (i<7):\n",
        "    print(i)\n",
        "    i += 2"
      ],
      "metadata": {
        "id": "Sdv0hoiwDr6H"
      },
      "execution_count": null,
      "outputs": []
    },
    {
      "cell_type": "markdown",
      "source": [
        "### d) Loop control"
      ],
      "metadata": {
        "id": "Iafgy3YpFghz"
      }
    },
    {
      "cell_type": "code",
      "source": [
        "# Break: break (stop) a loop\n",
        "\n",
        "for i in range(5):\n",
        "    #if (i>2):\n",
        "    #    break\n",
        "    print(i)"
      ],
      "metadata": {
        "id": "I2OxAbDgDp_x"
      },
      "execution_count": null,
      "outputs": []
    },
    {
      "cell_type": "code",
      "source": [
        "# Continue: stop this iteration and continue with next\n",
        "\n",
        "for i in range(5):\n",
        "    print(f\"<<< {i}\")\n",
        "    #if (i>2):\n",
        "    #    continue\n",
        "    print(f\"    {i} >>>\")"
      ],
      "metadata": {
        "id": "1zEohKsjGjD3"
      },
      "execution_count": null,
      "outputs": []
    },
    {
      "cell_type": "code",
      "source": [
        "# Pass: do nothing (a place holder)\n",
        "\n",
        "for i in range(5):\n",
        "    print(i)\n",
        "    pass"
      ],
      "metadata": {
        "id": "oqzlUMGhHuT0"
      },
      "execution_count": null,
      "outputs": []
    },
    {
      "cell_type": "markdown",
      "source": [
        "### e) Functions"
      ],
      "metadata": {
        "id": "Svh5td9SJjjj"
      }
    },
    {
      "cell_type": "code",
      "source": [
        "# Defining a fuction\n",
        "\n",
        "def myadd(x, y):\n",
        "    return(x+y)\n",
        "\n",
        "print( myadd(10.1, 20.3) )"
      ],
      "metadata": {
        "id": "4l4bPcMbJgQ5"
      },
      "execution_count": null,
      "outputs": []
    },
    {
      "cell_type": "code",
      "source": [
        "# Return values: no return, return 1, return many\n",
        "\n",
        "def myadd(x, y):\n",
        "    print(\">>> I am inside a function!\")\n",
        "    #return(x+y)\n",
        "    #return(x+y, type(x+y))\n",
        "\n",
        "print( myadd(10.1, 20.3) )"
      ],
      "metadata": {
        "id": "7uHUYKnlbWil"
      },
      "execution_count": null,
      "outputs": []
    },
    {
      "cell_type": "code",
      "source": [
        "# Default argument values\n",
        "\n",
        "def myadd(x, y):    # myadd(x, y = 1)\n",
        "    return(x+y)\n",
        "\n",
        "print( myadd(10.1) )"
      ],
      "metadata": {
        "id": "Njq71_gMcI5W"
      },
      "execution_count": null,
      "outputs": []
    },
    {
      "cell_type": "code",
      "source": [
        "# Passing function name as a variable (reference)\n",
        "\n",
        "def myadd(x, y):\n",
        "    return(x+y)\n",
        "\n",
        "youradd = myadd\n",
        "print( youradd(10.1, 20.3) )"
      ],
      "metadata": {
        "id": "Sk1NO2xPadxi"
      },
      "execution_count": null,
      "outputs": []
    },
    {
      "cell_type": "code",
      "source": [
        "#@markdown BONUS: A Python special - Lambda expressions\n",
        "\n",
        "# Same function as before, but easier to write\n",
        "myadd = lambda x, y : a + y\n",
        "print( myadd(10.1, 20.3) )\n",
        "\n",
        "# For more information, see https://docs.python.org/3/tutorial/controlflow.html#lambda-expressions"
      ],
      "metadata": {
        "cellView": "form",
        "id": "XvCsPaDXg8lo"
      },
      "execution_count": null,
      "outputs": []
    },
    {
      "cell_type": "markdown",
      "source": [
        "For more information about control flow, see https://docs.python.org/3/tutorial/controlflow.html"
      ],
      "metadata": {
        "id": "SbLIiCYOcsHn"
      }
    },
    {
      "cell_type": "markdown",
      "source": [
        "## <br>"
      ],
      "metadata": {
        "id": "HUArjz1-JVMF"
      }
    },
    {
      "cell_type": "markdown",
      "source": [
        "## 4) File I/O"
      ],
      "metadata": {
        "id": "b3hToDe-bGX3"
      }
    },
    {
      "cell_type": "markdown",
      "metadata": {
        "id": "Rqz5LcVEdHFX"
      },
      "source": [
        "* File open/close\n",
        "* Reading\n",
        "* Writing\n",
        "* A no-brainer: json dump\n",
        "\n",
        "\n"
      ]
    },
    {
      "cell_type": "markdown",
      "source": [
        "#### a) File open/close"
      ],
      "metadata": {
        "id": "UzGGLI--A98e"
      }
    },
    {
      "cell_type": "code",
      "source": [
        "# Basic usage\n",
        "\n",
        "# Open a file\n",
        "f = open(\"sample_data/README.md\", \"r\")\n",
        "\n",
        "# Do something with the opened file\n",
        "# (Here we read and print the entire file)\n",
        "print(f.read())\n",
        "\n",
        "# Close a file\n",
        "f.close()\n",
        "\n",
        "# What if I read after a file is closed?\n",
        "#print(f.read())"
      ],
      "metadata": {
        "id": "uMYBFdaaA8o-"
      },
      "execution_count": null,
      "outputs": []
    },
    {
      "cell_type": "markdown",
      "source": [
        "* Modes (most basic ones): \n",
        "    * `r`: read only (Default; error if not existing)\n",
        "    * `w`: write only (**CAUTION**: will truncate the file first)\n",
        "    * `a`: append (will not truncate the file)\n",
        "    * `b`: binary (e.g., `wb` or `rb`)    "
      ],
      "metadata": {
        "id": "fEXVoPAFA9GF"
      }
    },
    {
      "cell_type": "code",
      "source": [
        "# A more common context\n",
        "\n",
        "# \"with\" keyword\n",
        "with open(\"sample_data/README.md\", \"r\") as f:\n",
        "    \n",
        "    # Read and print the entire file\n",
        "    print(f.read())\n",
        "\n",
        "# What if I read outside of \"with\"?\n",
        "#print(f.read())"
      ],
      "metadata": {
        "id": "kt0RS2eCCD3D"
      },
      "execution_count": null,
      "outputs": []
    },
    {
      "cell_type": "markdown",
      "source": [
        "#### b) Reading"
      ],
      "metadata": {
        "id": "rqaqlfo9nXtk"
      }
    },
    {
      "cell_type": "code",
      "source": [
        "# Method 1: read()\n",
        "\n",
        "with open(\"sample_data/README.md\", \"r\") as f:\n",
        "\n",
        "    # Without argument, read the remaining file\n",
        "    str1 = f.read()\n",
        "    print(\"[str1]\\n\" + str1)\n",
        "    \n",
        "    # Read given size \n",
        "    #str2 = f.read(20)\n",
        "    #print(len(str2))\n",
        "    #print(\"[str2]\\n\" + str2)\n",
        "\n",
        "    # Keep using it will continue reading\n",
        "    #str3 = f.read(20)\n",
        "    #print(\"[str3]\\n\" + str3)"
      ],
      "metadata": {
        "id": "RF5rUFYenbFa"
      },
      "execution_count": null,
      "outputs": []
    },
    {
      "cell_type": "code",
      "source": [
        "# Method 2: readline()\n",
        "\n",
        "with open(\"sample_data/README.md\", \"r\") as f:\n",
        "\n",
        "    # Read one line at a time:\n",
        "    print(\"Line 1: \" + f.readline())\n",
        "    #print(\"Line 2: \" + f.readline())\n",
        "    #print(\"Line 3: \" + f.readline())\n",
        "    #print(\"Line 4: \" + f.readline())\n"
      ],
      "metadata": {
        "id": "-TKHqtKBojcM"
      },
      "execution_count": null,
      "outputs": []
    },
    {
      "cell_type": "code",
      "source": [
        "# Method 3: Treat f as iterable and use for loop (fast and efficient)\n",
        "\n",
        "with open(\"sample_data/README.md\", \"r\") as f:\n",
        "    \n",
        "    # Loop through file\n",
        "    for line in f:\n",
        "        print(line)"
      ],
      "metadata": {
        "id": "i4K_YrzspU1l"
      },
      "execution_count": null,
      "outputs": []
    },
    {
      "cell_type": "markdown",
      "source": [
        "#### c) Writing"
      ],
      "metadata": {
        "id": "lYQVxbL1wz4r"
      }
    },
    {
      "cell_type": "code",
      "source": [
        "# Basic usage\n",
        "\n",
        "# Write to file\n",
        "with open(\"test.txt\", \"w\") as fw:\n",
        "    fw.write(\"Hello World\\n\")\n",
        "    fw.write(\"Here is the second line\")\n",
        "\n",
        "# Read and print the file we just writed:\n",
        "#with open(\"test.txt\", \"r\") as f:\n",
        "#    print(f.read())"
      ],
      "metadata": {
        "id": "QqNjxUi2w4Fa"
      },
      "execution_count": null,
      "outputs": []
    },
    {
      "cell_type": "markdown",
      "source": [
        "#### d) A no-brainer: json dump"
      ],
      "metadata": {
        "id": "WSB6C7Kv4EOh"
      }
    },
    {
      "cell_type": "code",
      "source": [
        "#@markdown * When you just want to dump whatever you have in a variable to a local file and do not care about format\n",
        "\n",
        "# I am going to dump this list\n",
        "x = [1, 'simple', 'list']\n",
        "\n",
        "# Import json module\n",
        "import json\n",
        "\n",
        "# Open file and dump\n",
        "with open(\"dump.json\", \"w\") as fw:\n",
        "    json.dump(x, fw)\n",
        "\n",
        "# Read the dumped file\n",
        "with open(\"dump.json\", \"r\") as f:\n",
        "    y = json.load(f)\n",
        "print(y)"
      ],
      "metadata": {
        "id": "yJSkKfk_1TLT"
      },
      "execution_count": null,
      "outputs": []
    },
    {
      "cell_type": "markdown",
      "source": [
        "For more information about File I/O, see https://docs.python.org/3/tutorial/inputoutput.html#reading-and-writing-files"
      ],
      "metadata": {
        "id": "B03ZOnLY7FHG"
      }
    },
    {
      "cell_type": "markdown",
      "source": [
        "## <br>"
      ],
      "metadata": {
        "id": "xmMvJICBc5Mr"
      }
    },
    {
      "cell_type": "markdown",
      "metadata": {
        "id": "_73RPOcBdHFn"
      },
      "source": [
        "## 5) Python Module\n"
      ]
    },
    {
      "cell_type": "markdown",
      "source": [
        "* A file containing pre-written Python definitions and statements\n",
        "* Lots, lots of modules alreay written by developers all over the world\n",
        "  * For most of things you can think of, chances are, there are already modules written by someone else\n",
        "* Some very commonly used modules:\n",
        "  * `math`, `sys`, `os`, ...\n",
        "  * `NumPy`: High performance vector & matrix computation \n",
        "  * `SciPy`: Based on Numpy, including many scientific algorithms\n",
        "  * `padas`: A fast, powerful, flexible and easy to use open source data analysis and manipulation tool\n",
        "  * `matplotlib`: a comprehensive library for creating static, animated, and interactive visualizations\n",
        "  * Reference to [Python3.x standard libraries](https://docs.python.org/3/library/) "
      ],
      "metadata": {
        "id": "p5GyavM8ACRh"
      }
    },
    {
      "cell_type": "code",
      "execution_count": null,
      "metadata": {
        "id": "H9NB_NcNdHFo"
      },
      "outputs": [],
      "source": [
        "# Import and use a module\n",
        "\n",
        "import math\n",
        "\n",
        "print(math.pi)\n",
        "print(math.sin(60))\n",
        "print(math.sqrt(4))"
      ]
    },
    {
      "cell_type": "code",
      "execution_count": null,
      "metadata": {
        "id": "LZkg2iD_dHFq"
      },
      "outputs": [],
      "source": [
        "# Get module information\n",
        "print(dir(math))\n",
        "\n",
        "# Get help information\n",
        "help(math)"
      ]
    },
    {
      "cell_type": "code",
      "source": [
        "# Another way to import\n",
        "# 1) Import to current namespace, instead of creating a new one\n",
        "# 2) Can only import particular functions / variables / submodules\n",
        "\n",
        "from math import pi\n",
        "\n",
        "print(pi)\n",
        "#print(sin(60))"
      ],
      "metadata": {
        "id": "0lDZSjvEOKTq"
      },
      "execution_count": null,
      "outputs": []
    },
    {
      "cell_type": "code",
      "source": [
        "# Give modules an alias\n",
        "\n",
        "import numpy as np\n",
        "import pandas as pd\n",
        "import matplotlib.pyplot as plt\n",
        "\n",
        "help(numpy)"
      ],
      "metadata": {
        "id": "CFHwugzGPJmf"
      },
      "execution_count": null,
      "outputs": []
    },
    {
      "cell_type": "code",
      "execution_count": null,
      "metadata": {
        "id": "vkXjWnr_dHGZ",
        "cellView": "form"
      },
      "outputs": [],
      "source": [
        "#@markdown Example: Plot a graph using Matplotlib\n",
        "\n",
        "# Plot a bar chart\n",
        "# https://matplotlib.org/\n",
        "import matplotlib.pyplot as plt\n",
        "\n",
        "\n",
        "xlabeles = ['January','February','March','April']\n",
        "xticks = [i for i in range(len(xlabeles))]\n",
        "y = [ 34, 17, 13, 69]\n",
        "e = [5.2, 10., 1.5, 12.]\n",
        "plt.errorbar(xlabeles, y, yerr=e, fmt='d', capsize=10)\n",
        "plt.bar(xlabeles, y, 0.5, color='red' )\n",
        "plt.title(\"Sale by Month\")\n",
        "plt.xlabel('Month')\n",
        "plt.ylabel('Sale')\n",
        "plt.xticks(xticks, xlabeles)\n",
        "\n",
        "plt.show()"
      ]
    },
    {
      "cell_type": "markdown",
      "source": [
        "For more information about Python modules, see https://docs.python.org/3.10/tutorial/modules.html"
      ],
      "metadata": {
        "id": "96jK9dxC1xUn"
      }
    },
    {
      "cell_type": "markdown",
      "source": [
        "## <br>"
      ],
      "metadata": {
        "id": "JigqgwLWRs_k"
      }
    },
    {
      "cell_type": "markdown",
      "metadata": {
        "id": "z-YuCy6W7r_f"
      },
      "source": [
        "## Summary\n"
      ]
    },
    {
      "cell_type": "markdown",
      "source": [
        "1) Variables and operators\n",
        "  * Basic variable naming rules and operators <br>\n",
        "\n",
        "2) Data types\n",
        "  * Numbers\n",
        "  * Strings\n",
        "  * Collections of data\n",
        "    * Lists\n",
        "    * Tuples\n",
        "    * Sets\n",
        "    * Dictionaries\n",
        "\n",
        "3) Control flow\n",
        "  * Logic branch (if-else)\n",
        "  * For loop\n",
        "  * While loop\n",
        "  * Loop control\n",
        "  * Functions\n",
        "\n",
        "4) File I/O\n",
        "  * File open/close\n",
        "  * Reading\n",
        "  * Writing\n",
        "\n",
        "5) Python modules\n"
      ],
      "metadata": {
        "id": "4VX0PWLCT4lE"
      }
    }
  ],
  "metadata": {
    "colab": {
      "collapsed_sections": [
        "u1YDPNtbdHDj",
        "VB--CYOSdHDm",
        "krWd44XodHDp",
        "sNroCEBRa0a9",
        "R7DyZUcJdHDp",
        "YdP6U5V7zbZd",
        "YA20tOVqcana",
        "DqzfTKX_dHDq",
        "KWM_ojx6dHDq",
        "BDY4qMWLZq2E",
        "cdgOL44pmLQj",
        "_XDWU4R-dHED",
        "n1GjV7cVZfsl",
        "_GSJRSDDdHEj",
        "SHQYeFQadHE_",
        "MxZ47FAiryUf",
        "7NHEdgtwdHFG",
        "38Sjibs_c2Lq",
        "lCdorVfb0ttj",
        "Yu90ojsY13Rz",
        "nABDVgJW3_g4",
        "r1Nm97H6FAog",
        "p_3AWBcCE_9g",
        "F_NlFpaHFaqL",
        "Iafgy3YpFghz",
        "Svh5td9SJjjj",
        "HUArjz1-JVMF",
        "b3hToDe-bGX3",
        "UzGGLI--A98e",
        "rqaqlfo9nXtk",
        "lYQVxbL1wz4r",
        "WSB6C7Kv4EOh",
        "xmMvJICBc5Mr",
        "_73RPOcBdHFn",
        "JigqgwLWRs_k",
        "z-YuCy6W7r_f"
      ],
      "provenance": [],
      "toc_visible": true,
      "include_colab_link": true
    },
    "kernelspec": {
      "display_name": "Python 3",
      "language": "python",
      "name": "python3"
    },
    "language_info": {
      "codemirror_mode": {
        "name": "ipython",
        "version": 3
      },
      "file_extension": ".py",
      "mimetype": "text/x-python",
      "name": "python",
      "nbconvert_exporter": "python",
      "pygments_lexer": "ipython3",
      "version": "3.8.5"
    }
  },
  "nbformat": 4,
  "nbformat_minor": 0
}